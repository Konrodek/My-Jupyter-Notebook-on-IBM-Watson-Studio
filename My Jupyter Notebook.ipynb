{
 "cells": [
  {
   "cell_type": "markdown",
   "id": "70eb43f3-4588-4df8-8bd6-2da2f80c3417",
   "metadata": {},
   "source": [
    "# My Jupyter Notebook on IBM Watson Studio"
   ]
  },
  {
   "cell_type": "markdown",
   "id": "5daee2ac-f768-4539-a6b9-94d090b524dd",
   "metadata": {},
   "source": [
    "**Konrad Rodak** Submission Delivery Intern"
   ]
  },
  {
   "cell_type": "markdown",
   "id": "11f63048-abd4-404d-9552-5428c44a8384",
   "metadata": {},
   "source": [
    "*I'm interested in data science because it is fun and my current job is pissing me off*"
   ]
  },
  {
   "cell_type": "markdown",
   "id": "533e98bd-80cc-40a3-a84d-32352e6d4949",
   "metadata": {},
   "source": [
    "### My code is supposed to print some words"
   ]
  },
  {
   "cell_type": "code",
   "execution_count": 1,
   "id": "7922e728-59a5-406a-8372-8a2b0d9f9a37",
   "metadata": {},
   "outputs": [
    {
     "name": "stdout",
     "output_type": "stream",
     "text": [
      "some words\n"
     ]
    }
   ],
   "source": [
    "print(\"some words\")"
   ]
  },
  {
   "cell_type": "markdown",
   "id": "4437cbf5-75d0-4e96-aba2-029115df4538",
   "metadata": {},
   "source": [
    "![alt text](https://github.com/adam-p/markdown-here/raw/master/src/common/images/icon48.png \"Logo Title Text 1\")\n",
    "\n",
    "There is more\n",
    "\n",
    "***\n",
    "\n",
    "some random words\n",
    "\n",
    "+ random\n",
    "+ weird\n",
    "+ words"
   ]
  },
  {
   "cell_type": "code",
   "execution_count": null,
   "id": "41637c28-46de-41a7-8cf5-32f1abf5ad6f",
   "metadata": {},
   "outputs": [],
   "source": []
  }
 ],
 "metadata": {
  "kernelspec": {
   "display_name": "Python",
   "language": "python",
   "name": "conda-env-python-py"
  },
  "language_info": {
   "codemirror_mode": {
    "name": "ipython",
    "version": 3
   },
   "file_extension": ".py",
   "mimetype": "text/x-python",
   "name": "python",
   "nbconvert_exporter": "python",
   "pygments_lexer": "ipython3",
   "version": "3.7.12"
  }
 },
 "nbformat": 4,
 "nbformat_minor": 5
}
